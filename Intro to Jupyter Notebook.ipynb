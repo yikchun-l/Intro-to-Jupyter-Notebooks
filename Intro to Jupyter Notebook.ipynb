{
 "cells": [
  {
   "cell_type": "code",
   "execution_count": 1,
   "id": "37dfa56c",
   "metadata": {},
   "outputs": [
    {
     "data": {
      "text/plain": [
       "7"
      ]
     },
     "execution_count": 1,
     "metadata": {},
     "output_type": "execute_result"
    }
   ],
   "source": [
    "7"
   ]
  },
  {
   "cell_type": "code",
   "execution_count": 2,
   "id": "d552a067",
   "metadata": {},
   "outputs": [
    {
     "data": {
      "text/plain": [
       "49"
      ]
     },
     "execution_count": 2,
     "metadata": {},
     "output_type": "execute_result"
    }
   ],
   "source": [
    "7 * 7"
   ]
  },
  {
   "cell_type": "code",
   "execution_count": 3,
   "id": "be03f7f8",
   "metadata": {},
   "outputs": [
    {
     "data": {
      "text/plain": [
       "49"
      ]
     },
     "execution_count": 3,
     "metadata": {},
     "output_type": "execute_result"
    }
   ],
   "source": [
    "7\n",
    "7 * 7"
   ]
  },
  {
   "cell_type": "code",
   "execution_count": 4,
   "id": "152274a0",
   "metadata": {},
   "outputs": [
    {
     "data": {
      "text/plain": [
       "7"
      ]
     },
     "execution_count": 4,
     "metadata": {},
     "output_type": "execute_result"
    }
   ],
   "source": [
    "7"
   ]
  },
  {
   "cell_type": "code",
   "execution_count": null,
   "id": "32ff8008",
   "metadata": {},
   "outputs": [],
   "source": []
  },
  {
   "cell_type": "code",
   "execution_count": 5,
   "id": "4c19e877",
   "metadata": {},
   "outputs": [
    {
     "name": "stdout",
     "output_type": "stream",
     "text": [
      "Chun\n"
     ]
    }
   ],
   "source": [
    "name = 'Chun'\n",
    "print(name)"
   ]
  },
  {
   "cell_type": "code",
   "execution_count": 8,
   "id": "cfcdf8f5",
   "metadata": {},
   "outputs": [
    {
     "data": {
      "text/plain": [
       "'Mulberry'"
      ]
     },
     "execution_count": 8,
     "metadata": {},
     "output_type": "execute_result"
    }
   ],
   "source": [
    "name"
   ]
  },
  {
   "cell_type": "code",
   "execution_count": 7,
   "id": "a72752f3",
   "metadata": {},
   "outputs": [],
   "source": [
    "name = \"Mulberry\""
   ]
  },
  {
   "cell_type": "code",
   "execution_count": 9,
   "id": "0c72a0e0",
   "metadata": {},
   "outputs": [],
   "source": []
  },
  {
   "cell_type": "code",
   "execution_count": 10,
   "id": "5ba98b16",
   "metadata": {},
   "outputs": [
    {
     "data": {
      "text/plain": [
       "16"
      ]
     },
     "execution_count": 10,
     "metadata": {},
     "output_type": "execute_result"
    }
   ],
   "source": [
    "number * number"
   ]
  },
  {
   "cell_type": "code",
   "execution_count": 1,
   "id": "70451ece",
   "metadata": {},
   "outputs": [
    {
     "ename": "NameError",
     "evalue": "name 'number' is not defined",
     "output_type": "error",
     "traceback": [
      "\u001b[0;31m---------------------------------------------------------------------------\u001b[0m",
      "\u001b[0;31mNameError\u001b[0m                                 Traceback (most recent call last)",
      "Input \u001b[0;32mIn [1]\u001b[0m, in \u001b[0;36m<cell line: 1>\u001b[0;34m()\u001b[0m\n\u001b[0;32m----> 1\u001b[0m \u001b[43mnumber\u001b[49m \u001b[38;5;241m*\u001b[39m number\n",
      "\u001b[0;31mNameError\u001b[0m: name 'number' is not defined"
     ]
    }
   ],
   "source": [
    "number * number"
   ]
  },
  {
   "cell_type": "code",
   "execution_count": 2,
   "id": "423eed12",
   "metadata": {},
   "outputs": [],
   "source": [
    "import requests\n",
    "\n",
    "url = \"https://pokeapi.co/api/v2/type/electric/\"\n",
    "response = requests.get(url)\n",
    "data = response.json()"
   ]
  },
  {
   "cell_type": "code",
   "execution_count": 3,
   "id": "abaa242a",
   "metadata": {},
   "outputs": [
    {
     "data": {
      "text/plain": [
       "{'damage_relations': {'double_damage_from': [{'name': 'ground',\n",
       "    'url': 'https://pokeapi.co/api/v2/type/5/'}],\n",
       "  'double_damage_to': [{'name': 'flying',\n",
       "    'url': 'https://pokeapi.co/api/v2/type/3/'},\n",
       "   {'name': 'water', 'url': 'https://pokeapi.co/api/v2/type/11/'}],\n",
       "  'half_damage_from': [{'name': 'flying',\n",
       "    'url': 'https://pokeapi.co/api/v2/type/3/'},\n",
       "   {'name': 'steel', 'url': 'https://pokeapi.co/api/v2/type/9/'},\n",
       "   {'name': 'electric', 'url': 'https://pokeapi.co/api/v2/type/13/'}],\n",
       "  'half_damage_to': [{'name': 'grass',\n",
       "    'url': 'https://pokeapi.co/api/v2/type/12/'},\n",
       "   {'name': 'electric', 'url': 'https://pokeapi.co/api/v2/type/13/'},\n",
       "   {'name': 'dragon', 'url': 'https://pokeapi.co/api/v2/type/16/'}],\n",
       "  'no_damage_from': [],\n",
       "  'no_damage_to': [{'name': 'ground',\n",
       "    'url': 'https://pokeapi.co/api/v2/type/5/'}]},\n",
       " 'game_indices': [{'game_index': 23,\n",
       "   'generation': {'name': 'generation-i',\n",
       "    'url': 'https://pokeapi.co/api/v2/generation/1/'}},\n",
       "  {'game_index': 23,\n",
       "   'generation': {'name': 'generation-ii',\n",
       "    'url': 'https://pokeapi.co/api/v2/generation/2/'}},\n",
       "  {'game_index': 13,\n",
       "   'generation': {'name': 'generation-iii',\n",
       "    'url': 'https://pokeapi.co/api/v2/generation/3/'}},\n",
       "  {'game_index': 13,\n",
       "   'generation': {'name': 'generation-iv',\n",
       "    'url': 'https://pokeapi.co/api/v2/generation/4/'}},\n",
       "  {'game_index': 12,\n",
       "   'generation': {'name': 'generation-v',\n",
       "    'url': 'https://pokeapi.co/api/v2/generation/5/'}},\n",
       "  {'game_index': 12,\n",
       "   'generation': {'name': 'generation-vi',\n",
       "    'url': 'https://pokeapi.co/api/v2/generation/6/'}}],\n",
       " 'generation': {'name': 'generation-i',\n",
       "  'url': 'https://pokeapi.co/api/v2/generation/1/'},\n",
       " 'id': 13,\n",
       " 'move_damage_class': {'name': 'special',\n",
       "  'url': 'https://pokeapi.co/api/v2/move-damage-class/3/'},\n",
       " 'moves': [{'name': 'thunder-punch',\n",
       "   'url': 'https://pokeapi.co/api/v2/move/9/'},\n",
       "  {'name': 'thunder-shock', 'url': 'https://pokeapi.co/api/v2/move/84/'},\n",
       "  {'name': 'thunderbolt', 'url': 'https://pokeapi.co/api/v2/move/85/'},\n",
       "  {'name': 'thunder-wave', 'url': 'https://pokeapi.co/api/v2/move/86/'},\n",
       "  {'name': 'thunder', 'url': 'https://pokeapi.co/api/v2/move/87/'},\n",
       "  {'name': 'zap-cannon', 'url': 'https://pokeapi.co/api/v2/move/192/'},\n",
       "  {'name': 'spark', 'url': 'https://pokeapi.co/api/v2/move/209/'},\n",
       "  {'name': 'charge', 'url': 'https://pokeapi.co/api/v2/move/268/'},\n",
       "  {'name': 'volt-tackle', 'url': 'https://pokeapi.co/api/v2/move/344/'},\n",
       "  {'name': 'shock-wave', 'url': 'https://pokeapi.co/api/v2/move/351/'},\n",
       "  {'name': 'magnet-rise', 'url': 'https://pokeapi.co/api/v2/move/393/'},\n",
       "  {'name': 'thunder-fang', 'url': 'https://pokeapi.co/api/v2/move/422/'},\n",
       "  {'name': 'discharge', 'url': 'https://pokeapi.co/api/v2/move/435/'},\n",
       "  {'name': 'charge-beam', 'url': 'https://pokeapi.co/api/v2/move/451/'},\n",
       "  {'name': 'electro-ball', 'url': 'https://pokeapi.co/api/v2/move/486/'},\n",
       "  {'name': 'volt-switch', 'url': 'https://pokeapi.co/api/v2/move/521/'},\n",
       "  {'name': 'electroweb', 'url': 'https://pokeapi.co/api/v2/move/527/'},\n",
       "  {'name': 'wild-charge', 'url': 'https://pokeapi.co/api/v2/move/528/'},\n",
       "  {'name': 'bolt-strike', 'url': 'https://pokeapi.co/api/v2/move/550/'},\n",
       "  {'name': 'fusion-bolt', 'url': 'https://pokeapi.co/api/v2/move/559/'},\n",
       "  {'name': 'ion-deluge', 'url': 'https://pokeapi.co/api/v2/move/569/'},\n",
       "  {'name': 'parabolic-charge', 'url': 'https://pokeapi.co/api/v2/move/570/'},\n",
       "  {'name': 'electrify', 'url': 'https://pokeapi.co/api/v2/move/582/'},\n",
       "  {'name': 'eerie-impulse', 'url': 'https://pokeapi.co/api/v2/move/598/'},\n",
       "  {'name': 'magnetic-flux', 'url': 'https://pokeapi.co/api/v2/move/602/'},\n",
       "  {'name': 'electric-terrain', 'url': 'https://pokeapi.co/api/v2/move/604/'},\n",
       "  {'name': 'nuzzle', 'url': 'https://pokeapi.co/api/v2/move/609/'},\n",
       "  {'name': 'gigavolt-havoc--physical',\n",
       "   'url': 'https://pokeapi.co/api/v2/move/646/'},\n",
       "  {'name': 'gigavolt-havoc--special',\n",
       "   'url': 'https://pokeapi.co/api/v2/move/647/'},\n",
       "  {'name': 'catastropika', 'url': 'https://pokeapi.co/api/v2/move/658/'},\n",
       "  {'name': 'stoked-sparksurfer', 'url': 'https://pokeapi.co/api/v2/move/700/'},\n",
       "  {'name': 'zing-zap', 'url': 'https://pokeapi.co/api/v2/move/716/'},\n",
       "  {'name': '10-000-000-volt-thunderbolt',\n",
       "   'url': 'https://pokeapi.co/api/v2/move/719/'},\n",
       "  {'name': 'plasma-fists', 'url': 'https://pokeapi.co/api/v2/move/721/'},\n",
       "  {'name': 'zippy-zap', 'url': 'https://pokeapi.co/api/v2/move/729/'},\n",
       "  {'name': 'pika-papow', 'url': 'https://pokeapi.co/api/v2/move/732/'},\n",
       "  {'name': 'buzzy-buzz', 'url': 'https://pokeapi.co/api/v2/move/734/'},\n",
       "  {'name': 'bolt-beak', 'url': 'https://pokeapi.co/api/v2/move/754/'},\n",
       "  {'name': 'max-lightning', 'url': 'https://pokeapi.co/api/v2/move/759/'},\n",
       "  {'name': 'aura-wheel', 'url': 'https://pokeapi.co/api/v2/move/783/'},\n",
       "  {'name': 'overdrive', 'url': 'https://pokeapi.co/api/v2/move/786/'},\n",
       "  {'name': 'rising-voltage', 'url': 'https://pokeapi.co/api/v2/move/804/'},\n",
       "  {'name': 'thunder-cage', 'url': 'https://pokeapi.co/api/v2/move/819/'}],\n",
       " 'name': 'electric',\n",
       " 'names': [{'language': {'name': 'ja-Hrkt',\n",
       "    'url': 'https://pokeapi.co/api/v2/language/1/'},\n",
       "   'name': 'でんき'},\n",
       "  {'language': {'name': 'ko', 'url': 'https://pokeapi.co/api/v2/language/3/'},\n",
       "   'name': '전기'},\n",
       "  {'language': {'name': 'zh-Hant',\n",
       "    'url': 'https://pokeapi.co/api/v2/language/4/'},\n",
       "   'name': '電'},\n",
       "  {'language': {'name': 'fr', 'url': 'https://pokeapi.co/api/v2/language/5/'},\n",
       "   'name': 'Électrik'},\n",
       "  {'language': {'name': 'de', 'url': 'https://pokeapi.co/api/v2/language/6/'},\n",
       "   'name': 'Elektro'},\n",
       "  {'language': {'name': 'es', 'url': 'https://pokeapi.co/api/v2/language/7/'},\n",
       "   'name': 'Eléctrico'},\n",
       "  {'language': {'name': 'it', 'url': 'https://pokeapi.co/api/v2/language/8/'},\n",
       "   'name': 'Elettro'},\n",
       "  {'language': {'name': 'en', 'url': 'https://pokeapi.co/api/v2/language/9/'},\n",
       "   'name': 'Electric'},\n",
       "  {'language': {'name': 'ja', 'url': 'https://pokeapi.co/api/v2/language/11/'},\n",
       "   'name': 'でんき'},\n",
       "  {'language': {'name': 'zh-Hans',\n",
       "    'url': 'https://pokeapi.co/api/v2/language/12/'},\n",
       "   'name': '电'}],\n",
       " 'past_damage_relations': [],\n",
       " 'pokemon': [{'pokemon': {'name': 'pikachu',\n",
       "    'url': 'https://pokeapi.co/api/v2/pokemon/25/'},\n",
       "   'slot': 1},\n",
       "  {'pokemon': {'name': 'raichu',\n",
       "    'url': 'https://pokeapi.co/api/v2/pokemon/26/'},\n",
       "   'slot': 1},\n",
       "  {'pokemon': {'name': 'magnemite',\n",
       "    'url': 'https://pokeapi.co/api/v2/pokemon/81/'},\n",
       "   'slot': 1},\n",
       "  {'pokemon': {'name': 'magneton',\n",
       "    'url': 'https://pokeapi.co/api/v2/pokemon/82/'},\n",
       "   'slot': 1},\n",
       "  {'pokemon': {'name': 'voltorb',\n",
       "    'url': 'https://pokeapi.co/api/v2/pokemon/100/'},\n",
       "   'slot': 1},\n",
       "  {'pokemon': {'name': 'electrode',\n",
       "    'url': 'https://pokeapi.co/api/v2/pokemon/101/'},\n",
       "   'slot': 1},\n",
       "  {'pokemon': {'name': 'electabuzz',\n",
       "    'url': 'https://pokeapi.co/api/v2/pokemon/125/'},\n",
       "   'slot': 1},\n",
       "  {'pokemon': {'name': 'jolteon',\n",
       "    'url': 'https://pokeapi.co/api/v2/pokemon/135/'},\n",
       "   'slot': 1},\n",
       "  {'pokemon': {'name': 'zapdos',\n",
       "    'url': 'https://pokeapi.co/api/v2/pokemon/145/'},\n",
       "   'slot': 1},\n",
       "  {'pokemon': {'name': 'chinchou',\n",
       "    'url': 'https://pokeapi.co/api/v2/pokemon/170/'},\n",
       "   'slot': 2},\n",
       "  {'pokemon': {'name': 'lanturn',\n",
       "    'url': 'https://pokeapi.co/api/v2/pokemon/171/'},\n",
       "   'slot': 2},\n",
       "  {'pokemon': {'name': 'pichu',\n",
       "    'url': 'https://pokeapi.co/api/v2/pokemon/172/'},\n",
       "   'slot': 1},\n",
       "  {'pokemon': {'name': 'mareep',\n",
       "    'url': 'https://pokeapi.co/api/v2/pokemon/179/'},\n",
       "   'slot': 1},\n",
       "  {'pokemon': {'name': 'flaaffy',\n",
       "    'url': 'https://pokeapi.co/api/v2/pokemon/180/'},\n",
       "   'slot': 1},\n",
       "  {'pokemon': {'name': 'ampharos',\n",
       "    'url': 'https://pokeapi.co/api/v2/pokemon/181/'},\n",
       "   'slot': 1},\n",
       "  {'pokemon': {'name': 'elekid',\n",
       "    'url': 'https://pokeapi.co/api/v2/pokemon/239/'},\n",
       "   'slot': 1},\n",
       "  {'pokemon': {'name': 'raikou',\n",
       "    'url': 'https://pokeapi.co/api/v2/pokemon/243/'},\n",
       "   'slot': 1},\n",
       "  {'pokemon': {'name': 'electrike',\n",
       "    'url': 'https://pokeapi.co/api/v2/pokemon/309/'},\n",
       "   'slot': 1},\n",
       "  {'pokemon': {'name': 'manectric',\n",
       "    'url': 'https://pokeapi.co/api/v2/pokemon/310/'},\n",
       "   'slot': 1},\n",
       "  {'pokemon': {'name': 'plusle',\n",
       "    'url': 'https://pokeapi.co/api/v2/pokemon/311/'},\n",
       "   'slot': 1},\n",
       "  {'pokemon': {'name': 'minun',\n",
       "    'url': 'https://pokeapi.co/api/v2/pokemon/312/'},\n",
       "   'slot': 1},\n",
       "  {'pokemon': {'name': 'shinx',\n",
       "    'url': 'https://pokeapi.co/api/v2/pokemon/403/'},\n",
       "   'slot': 1},\n",
       "  {'pokemon': {'name': 'luxio',\n",
       "    'url': 'https://pokeapi.co/api/v2/pokemon/404/'},\n",
       "   'slot': 1},\n",
       "  {'pokemon': {'name': 'luxray',\n",
       "    'url': 'https://pokeapi.co/api/v2/pokemon/405/'},\n",
       "   'slot': 1},\n",
       "  {'pokemon': {'name': 'pachirisu',\n",
       "    'url': 'https://pokeapi.co/api/v2/pokemon/417/'},\n",
       "   'slot': 1},\n",
       "  {'pokemon': {'name': 'magnezone',\n",
       "    'url': 'https://pokeapi.co/api/v2/pokemon/462/'},\n",
       "   'slot': 1},\n",
       "  {'pokemon': {'name': 'electivire',\n",
       "    'url': 'https://pokeapi.co/api/v2/pokemon/466/'},\n",
       "   'slot': 1},\n",
       "  {'pokemon': {'name': 'rotom',\n",
       "    'url': 'https://pokeapi.co/api/v2/pokemon/479/'},\n",
       "   'slot': 1},\n",
       "  {'pokemon': {'name': 'blitzle',\n",
       "    'url': 'https://pokeapi.co/api/v2/pokemon/522/'},\n",
       "   'slot': 1},\n",
       "  {'pokemon': {'name': 'zebstrika',\n",
       "    'url': 'https://pokeapi.co/api/v2/pokemon/523/'},\n",
       "   'slot': 1},\n",
       "  {'pokemon': {'name': 'emolga',\n",
       "    'url': 'https://pokeapi.co/api/v2/pokemon/587/'},\n",
       "   'slot': 1},\n",
       "  {'pokemon': {'name': 'joltik',\n",
       "    'url': 'https://pokeapi.co/api/v2/pokemon/595/'},\n",
       "   'slot': 2},\n",
       "  {'pokemon': {'name': 'galvantula',\n",
       "    'url': 'https://pokeapi.co/api/v2/pokemon/596/'},\n",
       "   'slot': 2},\n",
       "  {'pokemon': {'name': 'tynamo',\n",
       "    'url': 'https://pokeapi.co/api/v2/pokemon/602/'},\n",
       "   'slot': 1},\n",
       "  {'pokemon': {'name': 'eelektrik',\n",
       "    'url': 'https://pokeapi.co/api/v2/pokemon/603/'},\n",
       "   'slot': 1},\n",
       "  {'pokemon': {'name': 'eelektross',\n",
       "    'url': 'https://pokeapi.co/api/v2/pokemon/604/'},\n",
       "   'slot': 1},\n",
       "  {'pokemon': {'name': 'stunfisk',\n",
       "    'url': 'https://pokeapi.co/api/v2/pokemon/618/'},\n",
       "   'slot': 2},\n",
       "  {'pokemon': {'name': 'thundurus-incarnate',\n",
       "    'url': 'https://pokeapi.co/api/v2/pokemon/642/'},\n",
       "   'slot': 1},\n",
       "  {'pokemon': {'name': 'zekrom',\n",
       "    'url': 'https://pokeapi.co/api/v2/pokemon/644/'},\n",
       "   'slot': 2},\n",
       "  {'pokemon': {'name': 'helioptile',\n",
       "    'url': 'https://pokeapi.co/api/v2/pokemon/694/'},\n",
       "   'slot': 1},\n",
       "  {'pokemon': {'name': 'heliolisk',\n",
       "    'url': 'https://pokeapi.co/api/v2/pokemon/695/'},\n",
       "   'slot': 1},\n",
       "  {'pokemon': {'name': 'dedenne',\n",
       "    'url': 'https://pokeapi.co/api/v2/pokemon/702/'},\n",
       "   'slot': 1},\n",
       "  {'pokemon': {'name': 'charjabug',\n",
       "    'url': 'https://pokeapi.co/api/v2/pokemon/737/'},\n",
       "   'slot': 2},\n",
       "  {'pokemon': {'name': 'vikavolt',\n",
       "    'url': 'https://pokeapi.co/api/v2/pokemon/738/'},\n",
       "   'slot': 2},\n",
       "  {'pokemon': {'name': 'togedemaru',\n",
       "    'url': 'https://pokeapi.co/api/v2/pokemon/777/'},\n",
       "   'slot': 1},\n",
       "  {'pokemon': {'name': 'tapu-koko',\n",
       "    'url': 'https://pokeapi.co/api/v2/pokemon/785/'},\n",
       "   'slot': 1},\n",
       "  {'pokemon': {'name': 'xurkitree',\n",
       "    'url': 'https://pokeapi.co/api/v2/pokemon/796/'},\n",
       "   'slot': 1},\n",
       "  {'pokemon': {'name': 'zeraora',\n",
       "    'url': 'https://pokeapi.co/api/v2/pokemon/807/'},\n",
       "   'slot': 1},\n",
       "  {'pokemon': {'name': 'yamper',\n",
       "    'url': 'https://pokeapi.co/api/v2/pokemon/835/'},\n",
       "   'slot': 1},\n",
       "  {'pokemon': {'name': 'boltund',\n",
       "    'url': 'https://pokeapi.co/api/v2/pokemon/836/'},\n",
       "   'slot': 1},\n",
       "  {'pokemon': {'name': 'toxel',\n",
       "    'url': 'https://pokeapi.co/api/v2/pokemon/848/'},\n",
       "   'slot': 1},\n",
       "  {'pokemon': {'name': 'toxtricity-amped',\n",
       "    'url': 'https://pokeapi.co/api/v2/pokemon/849/'},\n",
       "   'slot': 1},\n",
       "  {'pokemon': {'name': 'pincurchin',\n",
       "    'url': 'https://pokeapi.co/api/v2/pokemon/871/'},\n",
       "   'slot': 1},\n",
       "  {'pokemon': {'name': 'morpeko-full-belly',\n",
       "    'url': 'https://pokeapi.co/api/v2/pokemon/877/'},\n",
       "   'slot': 1},\n",
       "  {'pokemon': {'name': 'dracozolt',\n",
       "    'url': 'https://pokeapi.co/api/v2/pokemon/880/'},\n",
       "   'slot': 1},\n",
       "  {'pokemon': {'name': 'arctozolt',\n",
       "    'url': 'https://pokeapi.co/api/v2/pokemon/881/'},\n",
       "   'slot': 1},\n",
       "  {'pokemon': {'name': 'regieleki',\n",
       "    'url': 'https://pokeapi.co/api/v2/pokemon/894/'},\n",
       "   'slot': 1},\n",
       "  {'pokemon': {'name': 'rotom-heat',\n",
       "    'url': 'https://pokeapi.co/api/v2/pokemon/10008/'},\n",
       "   'slot': 1},\n",
       "  {'pokemon': {'name': 'rotom-wash',\n",
       "    'url': 'https://pokeapi.co/api/v2/pokemon/10009/'},\n",
       "   'slot': 1},\n",
       "  {'pokemon': {'name': 'rotom-frost',\n",
       "    'url': 'https://pokeapi.co/api/v2/pokemon/10010/'},\n",
       "   'slot': 1},\n",
       "  {'pokemon': {'name': 'rotom-fan',\n",
       "    'url': 'https://pokeapi.co/api/v2/pokemon/10011/'},\n",
       "   'slot': 1},\n",
       "  {'pokemon': {'name': 'rotom-mow',\n",
       "    'url': 'https://pokeapi.co/api/v2/pokemon/10012/'},\n",
       "   'slot': 1},\n",
       "  {'pokemon': {'name': 'thundurus-therian',\n",
       "    'url': 'https://pokeapi.co/api/v2/pokemon/10020/'},\n",
       "   'slot': 1},\n",
       "  {'pokemon': {'name': 'ampharos-mega',\n",
       "    'url': 'https://pokeapi.co/api/v2/pokemon/10045/'},\n",
       "   'slot': 1},\n",
       "  {'pokemon': {'name': 'manectric-mega',\n",
       "    'url': 'https://pokeapi.co/api/v2/pokemon/10055/'},\n",
       "   'slot': 1},\n",
       "  {'pokemon': {'name': 'pikachu-rock-star',\n",
       "    'url': 'https://pokeapi.co/api/v2/pokemon/10080/'},\n",
       "   'slot': 1},\n",
       "  {'pokemon': {'name': 'pikachu-belle',\n",
       "    'url': 'https://pokeapi.co/api/v2/pokemon/10081/'},\n",
       "   'slot': 1},\n",
       "  {'pokemon': {'name': 'pikachu-pop-star',\n",
       "    'url': 'https://pokeapi.co/api/v2/pokemon/10082/'},\n",
       "   'slot': 1},\n",
       "  {'pokemon': {'name': 'pikachu-phd',\n",
       "    'url': 'https://pokeapi.co/api/v2/pokemon/10083/'},\n",
       "   'slot': 1},\n",
       "  {'pokemon': {'name': 'pikachu-libre',\n",
       "    'url': 'https://pokeapi.co/api/v2/pokemon/10084/'},\n",
       "   'slot': 1},\n",
       "  {'pokemon': {'name': 'pikachu-cosplay',\n",
       "    'url': 'https://pokeapi.co/api/v2/pokemon/10085/'},\n",
       "   'slot': 1},\n",
       "  {'pokemon': {'name': 'pikachu-original-cap',\n",
       "    'url': 'https://pokeapi.co/api/v2/pokemon/10094/'},\n",
       "   'slot': 1},\n",
       "  {'pokemon': {'name': 'pikachu-hoenn-cap',\n",
       "    'url': 'https://pokeapi.co/api/v2/pokemon/10095/'},\n",
       "   'slot': 1},\n",
       "  {'pokemon': {'name': 'pikachu-sinnoh-cap',\n",
       "    'url': 'https://pokeapi.co/api/v2/pokemon/10096/'},\n",
       "   'slot': 1},\n",
       "  {'pokemon': {'name': 'pikachu-unova-cap',\n",
       "    'url': 'https://pokeapi.co/api/v2/pokemon/10097/'},\n",
       "   'slot': 1},\n",
       "  {'pokemon': {'name': 'pikachu-kalos-cap',\n",
       "    'url': 'https://pokeapi.co/api/v2/pokemon/10098/'},\n",
       "   'slot': 1},\n",
       "  {'pokemon': {'name': 'pikachu-alola-cap',\n",
       "    'url': 'https://pokeapi.co/api/v2/pokemon/10099/'},\n",
       "   'slot': 1},\n",
       "  {'pokemon': {'name': 'raichu-alola',\n",
       "    'url': 'https://pokeapi.co/api/v2/pokemon/10100/'},\n",
       "   'slot': 1},\n",
       "  {'pokemon': {'name': 'geodude-alola',\n",
       "    'url': 'https://pokeapi.co/api/v2/pokemon/10109/'},\n",
       "   'slot': 2},\n",
       "  {'pokemon': {'name': 'graveler-alola',\n",
       "    'url': 'https://pokeapi.co/api/v2/pokemon/10110/'},\n",
       "   'slot': 2},\n",
       "  {'pokemon': {'name': 'golem-alola',\n",
       "    'url': 'https://pokeapi.co/api/v2/pokemon/10111/'},\n",
       "   'slot': 2},\n",
       "  {'pokemon': {'name': 'vikavolt-totem',\n",
       "    'url': 'https://pokeapi.co/api/v2/pokemon/10122/'},\n",
       "   'slot': 2},\n",
       "  {'pokemon': {'name': 'oricorio-pom-pom',\n",
       "    'url': 'https://pokeapi.co/api/v2/pokemon/10123/'},\n",
       "   'slot': 1},\n",
       "  {'pokemon': {'name': 'pikachu-partner-cap',\n",
       "    'url': 'https://pokeapi.co/api/v2/pokemon/10148/'},\n",
       "   'slot': 1},\n",
       "  {'pokemon': {'name': 'togedemaru-totem',\n",
       "    'url': 'https://pokeapi.co/api/v2/pokemon/10154/'},\n",
       "   'slot': 1},\n",
       "  {'pokemon': {'name': 'pikachu-starter',\n",
       "    'url': 'https://pokeapi.co/api/v2/pokemon/10158/'},\n",
       "   'slot': 1},\n",
       "  {'pokemon': {'name': 'pikachu-world-cap',\n",
       "    'url': 'https://pokeapi.co/api/v2/pokemon/10160/'},\n",
       "   'slot': 1},\n",
       "  {'pokemon': {'name': 'toxtricity-low-key',\n",
       "    'url': 'https://pokeapi.co/api/v2/pokemon/10184/'},\n",
       "   'slot': 1},\n",
       "  {'pokemon': {'name': 'morpeko-hangry',\n",
       "    'url': 'https://pokeapi.co/api/v2/pokemon/10187/'},\n",
       "   'slot': 1},\n",
       "  {'pokemon': {'name': 'pikachu-gmax',\n",
       "    'url': 'https://pokeapi.co/api/v2/pokemon/10199/'},\n",
       "   'slot': 1},\n",
       "  {'pokemon': {'name': 'toxtricity-amped-gmax',\n",
       "    'url': 'https://pokeapi.co/api/v2/pokemon/10219/'},\n",
       "   'slot': 1},\n",
       "  {'pokemon': {'name': 'toxtricity-low-key-gmax',\n",
       "    'url': 'https://pokeapi.co/api/v2/pokemon/10228/'},\n",
       "   'slot': 1}]}"
      ]
     },
     "execution_count": 3,
     "metadata": {},
     "output_type": "execute_result"
    }
   ],
   "source": [
    "data"
   ]
  },
  {
   "cell_type": "code",
   "execution_count": 4,
   "id": "b61c6aad",
   "metadata": {},
   "outputs": [
    {
     "data": {
      "text/plain": [
       "dict_keys(['damage_relations', 'game_indices', 'generation', 'id', 'move_damage_class', 'moves', 'name', 'names', 'past_damage_relations', 'pokemon'])"
      ]
     },
     "execution_count": 4,
     "metadata": {},
     "output_type": "execute_result"
    }
   ],
   "source": [
    "data.keys()"
   ]
  },
  {
   "cell_type": "markdown",
   "id": "24b5454b",
   "metadata": {},
   "source": [
    "time to find out what electric pokemon are called in korean"
   ]
  },
  {
   "cell_type": "code",
   "execution_count": 5,
   "id": "cff6e236",
   "metadata": {},
   "outputs": [
    {
     "data": {
      "text/plain": [
       "[{'language': {'name': 'ja-Hrkt',\n",
       "   'url': 'https://pokeapi.co/api/v2/language/1/'},\n",
       "  'name': 'でんき'},\n",
       " {'language': {'name': 'ko', 'url': 'https://pokeapi.co/api/v2/language/3/'},\n",
       "  'name': '전기'},\n",
       " {'language': {'name': 'zh-Hant',\n",
       "   'url': 'https://pokeapi.co/api/v2/language/4/'},\n",
       "  'name': '電'},\n",
       " {'language': {'name': 'fr', 'url': 'https://pokeapi.co/api/v2/language/5/'},\n",
       "  'name': 'Électrik'},\n",
       " {'language': {'name': 'de', 'url': 'https://pokeapi.co/api/v2/language/6/'},\n",
       "  'name': 'Elektro'},\n",
       " {'language': {'name': 'es', 'url': 'https://pokeapi.co/api/v2/language/7/'},\n",
       "  'name': 'Eléctrico'},\n",
       " {'language': {'name': 'it', 'url': 'https://pokeapi.co/api/v2/language/8/'},\n",
       "  'name': 'Elettro'},\n",
       " {'language': {'name': 'en', 'url': 'https://pokeapi.co/api/v2/language/9/'},\n",
       "  'name': 'Electric'},\n",
       " {'language': {'name': 'ja', 'url': 'https://pokeapi.co/api/v2/language/11/'},\n",
       "  'name': 'でんき'},\n",
       " {'language': {'name': 'zh-Hans',\n",
       "   'url': 'https://pokeapi.co/api/v2/language/12/'},\n",
       "  'name': '电'}]"
      ]
     },
     "execution_count": 5,
     "metadata": {},
     "output_type": "execute_result"
    }
   ],
   "source": [
    "data['names']"
   ]
  },
  {
   "cell_type": "markdown",
   "id": "3cd4fd22",
   "metadata": {},
   "source": [
    "#### Wow Much Fancy"
   ]
  },
  {
   "cell_type": "code",
   "execution_count": 7,
   "id": "f8c0b4a4",
   "metadata": {},
   "outputs": [
    {
     "name": "stdout",
     "output_type": "stream",
     "text": [
      "でんき\n",
      "전기\n",
      "電\n",
      "Électrik\n",
      "Elektro\n",
      "Eléctrico\n",
      "Elettro\n",
      "Electric\n",
      "でんき\n",
      "电\n"
     ]
    }
   ],
   "source": [
    "for language in data['names']:\n",
    "    print(language['name'])"
   ]
  },
  {
   "cell_type": "code",
   "execution_count": null,
   "id": "9e81fbf9",
   "metadata": {},
   "outputs": [],
   "source": []
  }
 ],
 "metadata": {
  "kernelspec": {
   "display_name": "Python 3 (ipykernel)",
   "language": "python",
   "name": "python3"
  },
  "language_info": {
   "codemirror_mode": {
    "name": "ipython",
    "version": 3
   },
   "file_extension": ".py",
   "mimetype": "text/x-python",
   "name": "python",
   "nbconvert_exporter": "python",
   "pygments_lexer": "ipython3",
   "version": "3.10.3"
  }
 },
 "nbformat": 4,
 "nbformat_minor": 5
}
